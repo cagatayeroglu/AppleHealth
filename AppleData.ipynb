{
 "cells": [
  {
   "cell_type": "code",
   "execution_count": 13,
   "id": "ec279e85-abf0-4aa9-ab4c-83ef18a3ea83",
   "metadata": {},
   "outputs": [
    {
     "name": "stdout",
     "output_type": "stream",
     "text": [
      "File written: part_1.xml\n",
      "File written: part_2.xml\n",
      "File written: part_3.xml\n",
      "File written: part_4.xml\n",
      "File written: part_5.xml\n"
     ]
    }
   ],
   "source": [
    "import xml.etree.ElementTree as ET\n",
    "import os\n",
    "from datetime import datetime\n",
    "\n",
    "def filter_and_split_step_data(input_file, output_dir, start_date, end_date, lines_per_file):\n",
    "    if not os.path.exists(output_dir):\n",
    "        os.makedirs(output_dir)\n",
    "    \n",
    "    context = ET.iterparse(input_file, events=(\"start\", \"end\"))\n",
    "    filtered_records = []\n",
    "    file_index = 1\n",
    "\n",
    "    start_date = datetime.strptime(start_date, \"%Y-%m-%d\")\n",
    "    end_date = datetime.strptime(end_date, \"%Y-%m-%d\")\n",
    "\n",
    "    xml_header = '<?xml version=\"1.0\" encoding=\"UTF-8\"?>\\n<HealthData>\\n'\n",
    "    xml_footer = '</HealthData>'\n",
    "\n",
    "    for event, elem in context:\n",
    "        if event == \"start\" and elem.tag == \"Record\":\n",
    "            record_type = elem.attrib.get(\"type\", \"\")\n",
    "            start_record_date = elem.attrib.get(\"startDate\", \"\")\n",
    "\n",
    "            # Sadece Step Count kayıtlarını kontrol et\n",
    "            if record_type == \"HKQuantityTypeIdentifierStepCount\":\n",
    "                try:\n",
    "                    record_date = datetime.strptime(start_record_date[:10], \"%Y-%m-%d\")\n",
    "                except ValueError:\n",
    "                    elem.clear()\n",
    "                    continue\n",
    "\n",
    "                if start_date <= record_date <= end_date:\n",
    "                    filtered_records.append(ET.tostring(elem, encoding=\"unicode\"))\n",
    "\n",
    "                    if len(filtered_records) >= lines_per_file:\n",
    "                        write_to_file(output_dir, file_index, xml_header, xml_footer, filtered_records)\n",
    "                        filtered_records = []\n",
    "                        file_index += 1\n",
    "                        print(f\"File written: part_{file_index - 1}.xml\")\n",
    "\n",
    "            elem.clear()\n",
    "\n",
    "    if filtered_records:\n",
    "        write_to_file(output_dir, file_index, xml_header, xml_footer, filtered_records)\n",
    "        print(f\"File written: part_{file_index}.xml\")\n",
    "\n",
    "def write_to_file(output_dir, index, header, footer, records):\n",
    "    file_name = f\"part_{index}.xml\"\n",
    "    with open(os.path.join(output_dir, file_name), 'w', encoding='utf-8') as out_file:\n",
    "        out_file.write(header)\n",
    "        out_file.writelines(records)\n",
    "        out_file.write(footer)\n",
    "\n",
    "# Parametreler\n",
    "input_file = \"dışa aktarılan.xml\"  # XML dosyasının adı\n",
    "output_dir = \"filtered_xml_parts\"  # Filtrelenmiş dosyaların kaydedileceği klasör\n",
    "start_date = \"2022-10-03\"  # Başlangıç tarihi\n",
    "end_date = \"2024-09-23\"    # Bitiş tarihi\n",
    "lines_per_file = 5000      # Her dosyada bulunacak kayıt sayısı\n",
    "\n",
    "# Çalıştır\n",
    "filter_and_split_step_data(input_file, output_dir, start_date, end_date, lines_per_file)\n"
   ]
  },
  {
   "cell_type": "code",
   "execution_count": 15,
   "id": "f2819a44-7f0c-4d1f-af52-709663d1104b",
   "metadata": {},
   "outputs": [
    {
     "name": "stdout",
     "output_type": "stream",
     "text": [
      "/Users/cagatayeroglu\n"
     ]
    }
   ],
   "source": [
    "import os\n",
    "print(os.getcwd())\n"
   ]
  },
  {
   "cell_type": "code",
   "execution_count": null,
   "id": "3f844438-1e5c-4f97-84b9-c910de48be42",
   "metadata": {},
   "outputs": [],
   "source": []
  }
 ],
 "metadata": {
  "kernelspec": {
   "display_name": "Python 3 (ipykernel)",
   "language": "python",
   "name": "python3"
  },
  "language_info": {
   "codemirror_mode": {
    "name": "ipython",
    "version": 3
   },
   "file_extension": ".py",
   "mimetype": "text/x-python",
   "name": "python",
   "nbconvert_exporter": "python",
   "pygments_lexer": "ipython3",
   "version": "3.12.4"
  }
 },
 "nbformat": 4,
 "nbformat_minor": 5
}
